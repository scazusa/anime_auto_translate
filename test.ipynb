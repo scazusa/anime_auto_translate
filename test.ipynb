{
 "cells": [
  {
   "cell_type": "code",
   "execution_count": null,
   "metadata": {},
   "outputs": [],
   "source": [
    "import whisper\n",
    "from whisper.tokenizer import *\n",
    "model_path = r\"E:\\ai\\models\\whisper\\medium.pt\"\n",
    "audio_path = r\"E:\\ai\\whisper\\whisper\\sym1018\\说书人.mp3\"\n",
    "\n",
    "model = whisper.load_model(model_path)\n",
    "audio = whisper.load_audio(audio_path)\n",
    "\n",
    "result = model.transcribe(audio,language=\"zh\")\n",
    "\n",
    "#print(result)\n",
    "for i in range(len(result['segments'])):\n",
    "    print(result['segments'][i]['start'], result['segments'][i]['end'], result['segments'][i]['text'])\n",
    "    print(\"\\n\")"
   ]
  },
  {
   "cell_type": "code",
   "execution_count": null,
   "metadata": {},
   "outputs": [],
   "source": [
    "import whisper\n",
    "#from whisper.utils import get_writer\n",
    "import os\n",
    "\n",
    "output_format=\"all\"\n",
    "output_dir=\"./\"\n",
    "\n",
    "vioce_path = os.path.abspath(r'C:\\sym1018\\github\\whisper\\sym1018\\Ferco.mp3')\n",
    "model_path = os.path.abspath(r'C:\\sym1018\\github\\whisper\\sym1018\\small.pt')\n",
    "output_path = os.path.abspath(r'C:\\sym1018\\github\\whisper\\sym1018\\output_path')\n",
    "\n",
    "model = whisper.load_model(model_path)\n",
    "result = model.transcribe(vioce_path,fp16=False)\n",
    "print(result[\"text\"])\n",
    "\n",
    "options = dict(max_line_width=1000,max_line_count=1000,highlight_words=False)\n",
    "file_name = '1'\n",
    "output_writer = whisper.utils.get_writer(output_format, output_dir)\n",
    "output_writer(result, file_name, options=options)"
   ]
  }
 ],
 "metadata": {
  "kernelspec": {
   "display_name": "venv",
   "language": "python",
   "name": "python3"
  },
  "language_info": {
   "codemirror_mode": {
    "name": "ipython",
    "version": 3
   },
   "file_extension": ".py",
   "mimetype": "text/x-python",
   "name": "python",
   "nbconvert_exporter": "python",
   "pygments_lexer": "ipython3",
   "version": "3.11.4"
  },
  "orig_nbformat": 4
 },
 "nbformat": 4,
 "nbformat_minor": 2
}
